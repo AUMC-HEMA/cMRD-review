{
 "cells": [
  {
   "cell_type": "code",
   "execution_count": 12,
   "id": "c8472e5b-26c9-4441-9511-6f65f0f57990",
   "metadata": {},
   "outputs": [],
   "source": [
    "import numpy as np\n",
    "import matplotlib.pyplot as plt\n",
    "import ipywidgets as widgets\n",
    "from ipywidgets import interactive\n",
    "from IPython.display import display\n",
    "import pandas as pd\n",
    "import matplotlib.pyplot as plt\n",
    "import seaborn as sns\n",
    "import matplotlib.gridspec as gridspec\n",
    "from sklearn import neighbors\n",
    "from sklearn.metrics import roc_curve, auc"
   ]
  },
  {
   "cell_type": "code",
   "execution_count": 18,
   "id": "8970330c-06f6-4e71-8c2d-30bffc32d0fd",
   "metadata": {},
   "outputs": [
    {
     "name": "stdout",
     "output_type": "stream",
     "text": [
      "The autoreload extension is already loaded. To reload it, use:\n",
      "  %reload_ext autoreload\n"
     ]
    }
   ],
   "source": [
    "from simulate import simulate_samples\n",
    "from plots import plot_simulation, plot_supervised\n",
    "%load_ext autoreload\n",
    "%autoreload 2"
   ]
  },
  {
   "cell_type": "markdown",
   "id": "c143b78f-cb23-49b2-ae9e-6ed83922d48b",
   "metadata": {},
   "source": [
    "# Setup global settings"
   ]
  },
  {
   "cell_type": "code",
   "execution_count": 14,
   "id": "4c96b05f-d9c1-4cf4-9e78-5982ba2ff42d",
   "metadata": {},
   "outputs": [],
   "source": [
    "# Define default values for sliders\n",
    "default_values = {\n",
    "    'n_cells': 10000,\n",
    "    'frac_leukemic_AML1': 0.1,\n",
    "    'frac_leukemic_AML2': 0.01,\n",
    "    'frac_leukemic_AML3': 0.1,\n",
    "    'mean_healthy_x': -1,\n",
    "    'std_healthy_x': 0.5,\n",
    "    'mean_healthy_y': -1,\n",
    "    'std_healthy_y': 0.5,\n",
    "    'dist_healthy_LAIP1': 3,\n",
    "    'std_LAIP1_x': 0.5,\n",
    "    'std_LAIP1_y': 0.5,\n",
    "    'dist_healthy_LAIP2': 3,\n",
    "    'std_LAIP2_x': 0.5,\n",
    "    'std_LAIP2_y': 0.5\n",
    "}\n",
    "\n",
    "# Define a function to restore default values\n",
    "def restore_defaults(button):\n",
    "    n_cells_slider.value = default_values['n_cells']\n",
    "    frac_leukemic_AML1_slider.value = default_values['frac_leukemic_AML1']\n",
    "    frac_leukemic_AML2_slider.value = default_values['frac_leukemic_AML2']\n",
    "    frac_leukemic_AML3_slider.value = default_values['frac_leukemic_AML3']\n",
    "    mean_healthy_x_slider.value = default_values['mean_healthy_x']\n",
    "    std_healthy_x_slider.value = default_values['std_healthy_x']\n",
    "    mean_healthy_y_slider.value = default_values['mean_healthy_y']\n",
    "    std_healthy_y_slider.value = default_values['std_healthy_y']\n",
    "    dist_healthy_LAIP1_slider.value = default_values['dist_healthy_LAIP1']\n",
    "    std_LAIP1_x_slider.value = default_values['std_LAIP1_x']\n",
    "    std_LAIP1_y_slider.value = default_values['std_LAIP1_y']\n",
    "    dist_healthy_LAIP2_slider.value = default_values['dist_healthy_LAIP2']\n",
    "    std_LAIP2_x_slider.value = default_values['std_LAIP2_x']\n",
    "    std_LAIP2_y_slider.value = default_values['std_LAIP2_y']"
   ]
  },
  {
   "cell_type": "markdown",
   "id": "7c00c03f-a04a-48e1-b581-d493bb010694",
   "metadata": {},
   "source": [
    "# Setup sliders"
   ]
  },
  {
   "cell_type": "code",
   "execution_count": 15,
   "id": "a0a5ad59-d67b-46a0-b832-02340ced1077",
   "metadata": {},
   "outputs": [],
   "source": [
    "slider_layout = widgets.Layout(width='400px')\n",
    "\n",
    "# Create sliders with default values\n",
    "n_cells_slider = widgets.IntSlider(value=default_values['n_cells'], min=1, max=100000, step=1, description=\"Total cells\", style={'description_width': 'initial'}, layout=slider_layout)\n",
    "frac_leukemic_AML1_slider = widgets.FloatSlider(value=default_values['frac_leukemic_AML1'], min=0, max=1, step=0.01, description=\"Fraction leukemic cells in AML1\", style={'description_width': 'initial'}, layout=slider_layout)\n",
    "frac_leukemic_AML2_slider = widgets.FloatSlider(value=default_values['frac_leukemic_AML2'], min=0, max=1, step=0.01, description=\"Fraction leukemic cells in AML2\", style={'description_width': 'initial'}, layout=slider_layout)\n",
    "frac_leukemic_AML3_slider = widgets.FloatSlider(value=default_values['frac_leukemic_AML3'], min=0, max=1, step=0.01, description=\"Fraction leukemic cells in AML3\", style={'description_width': 'initial'}, layout=slider_layout)\n",
    "\n",
    "mean_healthy_x_slider = widgets.FloatSlider(value=default_values['mean_healthy_x'], min=-10, max=10, step=0.1, description=\"Mean of non-leukemic cluster (X-axis)\", style={'description_width': 'initial'}, layout=slider_layout)\n",
    "std_healthy_x_slider = widgets.FloatSlider(value=default_values['std_healthy_x'], min=0, max=3, step=0.1, description=\"Standard deviation of non-leukemic cluster (X-axis)\", style={'description_width': 'initial'}, layout=slider_layout)\n",
    "mean_healthy_y_slider = widgets.FloatSlider(value=default_values['mean_healthy_y'], min=-10, max=10, step=0.1, description=\"Mean of non-leukemic cluster (Y-axis)\", style={'description_width': 'initial'}, layout=slider_layout)\n",
    "std_healthy_y_slider = widgets.FloatSlider(value=default_values['std_healthy_y'], min=0, max=3, step=0.1, description=\"Standard deviation of non-leukemic cluster (Y-axis)\", style={'description_width': 'initial'}, layout=slider_layout)\n",
    "\n",
    "dist_healthy_LAIP1_slider = widgets.FloatSlider(value=default_values['dist_healthy_LAIP1'], min=0, max=5, step=0.1, description=\"Distance between LAIP1+ and non-leukemic clusters\", style={'description_width': 'initial'}, layout=slider_layout)\n",
    "std_LAIP1_x_slider = widgets.FloatSlider(value=default_values['std_LAIP1_x'], min=0, max=3, step=0.1, description=\"Standard deviation of LAIP1+ cluster (X-axis)\", style={'description_width': 'initial'}, layout=slider_layout)\n",
    "std_LAIP1_y_slider = widgets.FloatSlider(value=default_values['std_LAIP1_y'], min=0, max=3, step=0.1, description=\"Standard deviation of LAIP1+ cluster (Y-axis)\", style={'description_width': 'initial'}, layout=slider_layout)\n",
    "\n",
    "dist_healthy_LAIP2_slider = widgets.FloatSlider(value=default_values['dist_healthy_LAIP2'], min=0, max=5, step=0.1, description=\"Distance between LAIP2+ and non-leukemic clusters\", style={'description_width': 'initial'}, layout=slider_layout)\n",
    "std_LAIP2_x_slider = widgets.FloatSlider(value=default_values['std_LAIP2_x'], min=0, max=3, step=0.1, description=\"Standard deviation of LAIP2+ cluster (X-axis)\", style={'description_width': 'initial'}, layout=slider_layout)\n",
    "std_LAIP2_y_slider = widgets.FloatSlider(value=default_values['std_LAIP2_y'], min=0, max=3, step=0.1, description=\"Standard deviation of LAIP2+ cluster (Y-axis)\", style={'description_width': 'initial'}, layout=slider_layout)"
   ]
  },
  {
   "cell_type": "code",
   "execution_count": 10,
   "id": "8b253ac0-dce8-4a14-860b-e649f876e69b",
   "metadata": {},
   "outputs": [
    {
     "data": {
      "application/vnd.jupyter.widget-view+json": {
       "model_id": "297a23e479ea47adb5eb4b4959a08c38",
       "version_major": 2,
       "version_minor": 0
      },
      "text/plain": [
       "interactive(children=(IntSlider(value=10000, description='Total cells', layout=Layout(width='400px'), max=1000…"
      ]
     },
     "metadata": {},
     "output_type": "display_data"
    },
    {
     "data": {
      "application/vnd.jupyter.widget-view+json": {
       "model_id": "b1b3b3ab97664b7db7cda8f446e0e4f2",
       "version_major": 2,
       "version_minor": 0
      },
      "text/plain": [
       "Button(button_style='primary', description='Restore Defaults', style=ButtonStyle())"
      ]
     },
     "metadata": {},
     "output_type": "display_data"
    }
   ],
   "source": [
    "# Create a button to restore defaults\n",
    "restore_defaults_button = widgets.Button(description=\"Restore Defaults\", button_style='primary')\n",
    "restore_defaults_button.on_click(restore_defaults)\n",
    "\n",
    "# Define the interactive plot with sliders\n",
    "interactive_plot = interactive(plot_supervised,\n",
    "                               n_cells = n_cells_slider,\n",
    "                               frac_leukemic_AML1 = frac_leukemic_AML1_slider,\n",
    "                               frac_leukemic_AML2 = frac_leukemic_AML2_slider,\n",
    "                               frac_leukemic_AML3 = frac_leukemic_AML3_slider,\n",
    "                               mean_healthy_x = mean_healthy_x_slider,\n",
    "                               std_healthy_x = std_healthy_x_slider,\n",
    "                               mean_healthy_y = mean_healthy_y_slider,\n",
    "                               std_healthy_y = std_healthy_y_slider,\n",
    "                               dist_healthy_LAIP1 = dist_healthy_LAIP1_slider,\n",
    "                               std_LAIP1_x = std_LAIP1_x_slider,\n",
    "                               std_LAIP1_y = std_LAIP1_y_slider,\n",
    "                               dist_healthy_LAIP2 = dist_healthy_LAIP2_slider,\n",
    "                               std_LAIP2_x = std_LAIP2_x_slider,\n",
    "                               std_LAIP2_y = std_LAIP2_y_slider)\n",
    "\n",
    "# Display the interactive plot and the restore defaults button\n",
    "display(interactive_plot, restore_defaults_button)"
   ]
  },
  {
   "cell_type": "code",
   "execution_count": 21,
   "id": "85185c80-d565-4e29-8fb0-a9bbd6e50286",
   "metadata": {},
   "outputs": [
    {
     "data": {
      "application/vnd.jupyter.widget-view+json": {
       "model_id": "a62325d3c9d542a991c57b2bd02e1de1",
       "version_major": 2,
       "version_minor": 0
      },
      "text/plain": [
       "interactive(children=(IntSlider(value=10000, description='Total cells', layout=Layout(width='400px'), max=1000…"
      ]
     },
     "metadata": {},
     "output_type": "display_data"
    },
    {
     "data": {
      "application/vnd.jupyter.widget-view+json": {
       "model_id": "2713cf08f03444328faf0bae23d388a0",
       "version_major": 2,
       "version_minor": 0
      },
      "text/plain": [
       "Button(button_style='primary', description='Restore Defaults', style=ButtonStyle())"
      ]
     },
     "metadata": {},
     "output_type": "display_data"
    }
   ],
   "source": [
    "# Create a button to restore defaults\n",
    "restore_defaults_button = widgets.Button(description=\"Restore Defaults\", button_style='primary')\n",
    "restore_defaults_button.on_click(restore_defaults)\n",
    "\n",
    "# Define the interactive plot with sliders\n",
    "interactive_plot = interactive(plot_simulation,\n",
    "                               n_cells = n_cells_slider,\n",
    "                               frac_leukemic_AML1 = frac_leukemic_AML1_slider,\n",
    "                               frac_leukemic_AML2 = frac_leukemic_AML2_slider,\n",
    "                               frac_leukemic_AML3 = frac_leukemic_AML3_slider,\n",
    "                               mean_healthy_x = mean_healthy_x_slider,\n",
    "                               std_healthy_x = std_healthy_x_slider,\n",
    "                               mean_healthy_y = mean_healthy_y_slider,\n",
    "                               std_healthy_y = std_healthy_y_slider,\n",
    "                               dist_healthy_LAIP1 = dist_healthy_LAIP1_slider,\n",
    "                               std_LAIP1_x = std_LAIP1_x_slider,\n",
    "                               std_LAIP1_y = std_LAIP1_y_slider,\n",
    "                               dist_healthy_LAIP2 = dist_healthy_LAIP2_slider,\n",
    "                               std_LAIP2_x = std_LAIP2_x_slider,\n",
    "                               std_LAIP2_y = std_LAIP2_y_slider)\n",
    "\n",
    "# Display the interactive plot and the restore defaults button\n",
    "display(interactive_plot, restore_defaults_button)"
   ]
  },
  {
   "cell_type": "code",
   "execution_count": null,
   "id": "0e0664f6-96e6-4605-adb3-c47e0b1287f7",
   "metadata": {},
   "outputs": [],
   "source": []
  }
 ],
 "metadata": {
  "kernelspec": {
   "display_name": "Python 3 (ipykernel)",
   "language": "python",
   "name": "python3"
  },
  "language_info": {
   "codemirror_mode": {
    "name": "ipython",
    "version": 3
   },
   "file_extension": ".py",
   "mimetype": "text/x-python",
   "name": "python",
   "nbconvert_exporter": "python",
   "pygments_lexer": "ipython3",
   "version": "3.11.5"
  }
 },
 "nbformat": 4,
 "nbformat_minor": 5
}
