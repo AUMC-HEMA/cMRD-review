{
 "cells": [
  {
   "cell_type": "code",
   "execution_count": 13,
   "id": "c8472e5b-26c9-4441-9511-6f65f0f57990",
   "metadata": {},
   "outputs": [],
   "source": [
    "import numpy as np\n",
    "import matplotlib.pyplot as plt\n",
    "import ipywidgets as widgets\n",
    "from ipywidgets import interactive\n",
    "from IPython.display import display\n",
    "import pandas as pd\n",
    "import matplotlib.pyplot as plt\n",
    "import seaborn as sns\n",
    "import matplotlib.gridspec as gridspec\n",
    "from sklearn import neighbors\n",
    "from sklearn.metrics import roc_curve, auc"
   ]
  },
  {
   "cell_type": "code",
   "execution_count": 14,
   "id": "8970330c-06f6-4e71-8c2d-30bffc32d0fd",
   "metadata": {},
   "outputs": [
    {
     "name": "stdout",
     "output_type": "stream",
     "text": [
      "The autoreload extension is already loaded. To reload it, use:\n",
      "  %reload_ext autoreload\n"
     ]
    }
   ],
   "source": [
    "from simulate import simulate_samples\n",
    "from plots import plot_simulation, plot_supervised, plot_cluster_with_normal\n",
    "%load_ext autoreload\n",
    "%autoreload 2"
   ]
  },
  {
   "cell_type": "code",
   "execution_count": 15,
   "id": "ea1fe119-f079-4d4f-be73-04793f7575b1",
   "metadata": {},
   "outputs": [],
   "source": [
    "# Define default values for sliders\n",
    "default_values = {\n",
    "    'n_cells': 10000,\n",
    "    'frac_leukemic_AML1': 0.1,\n",
    "    'frac_leukemic_AML2': 0.01,\n",
    "    'frac_leukemic_AML3': 0.1,\n",
    "    'mean_healthy_x': -1,\n",
    "    'std_healthy_x': 0.5,\n",
    "    'mean_healthy_y': -1,\n",
    "    'std_healthy_y': 0.5,\n",
    "    'dist_healthy_LAIP1': 3,\n",
    "    'std_LAIP1_x': 0.5,\n",
    "    'std_LAIP1_y': 0.5,\n",
    "    'dist_healthy_LAIP2': 3,\n",
    "    'std_LAIP2_x': 0.5,\n",
    "    'std_LAIP2_y': 0.5\n",
    "}\n",
    "\n",
    "# Create sliders with default values\n",
    "slider_specs = {\n",
    "    'n_cells': ('Total cells', 1, 100000, 1),\n",
    "    'frac_leukemic_AML1': ('Fraction leukemic cells in AML1', 0, 1, 0.01),\n",
    "    'frac_leukemic_AML2': ('Fraction leukemic cells in AML2', 0, 1, 0.01),\n",
    "    'frac_leukemic_AML3': ('Fraction leukemic cells in AML3', 0, 1, 0.01),\n",
    "    'mean_healthy_x': ('Mean of non-leukemic cluster (X-axis)', -10, 10, 0.1),\n",
    "    'std_healthy_x': ('Standard deviation of non-leukemic cluster (X-axis)', 0, 3, 0.1),\n",
    "    'mean_healthy_y': ('Mean of non-leukemic cluster (Y-axis)', -10, 10, 0.1),\n",
    "    'std_healthy_y': ('Standard deviation of non-leukemic cluster (Y-axis)', 0, 3, 0.1),\n",
    "    'dist_healthy_LAIP1': ('Distance NBM/LAIP1', 0, 4, 0.01),\n",
    "    'std_LAIP1_x': ('Standard deviation of LAIP1+ cluster (X-axis)', 0, 3, 0.1),\n",
    "    'std_LAIP1_y': ('Standard deviation of LAIP1+ cluster (Y-axis)', 0, 3, 0.1),\n",
    "    'dist_healthy_LAIP2': ('Distance between NBM/LAIP2', 0, 4, 0.01),\n",
    "    'std_LAIP2_x': ('Standard deviation of LAIP2+ cluster (X-axis)', 0, 3, 0.1),\n",
    "    'std_LAIP2_y': ('Standard deviation of LAIP2+ cluster (Y-axis)', 0, 3, 0.1)\n",
    "}\n",
    "\n",
    "slider_layout = widgets.Layout(width='400px')\n",
    "sliders = {}\n",
    "\n",
    "for key, (description, min_val, max_val, step) in slider_specs.items():\n",
    "    if 'n_cells' in key:\n",
    "        slider = widgets.IntSlider(value=default_values[key], min=min_val, max=max_val, step=step, description=description, style={'description_width': 'initial'}, layout=slider_layout)\n",
    "    else:\n",
    "        slider = widgets.FloatSlider(value=default_values[key], min=min_val, max=max_val, step=step, description=description, style={'description_width': 'initial'}, layout=slider_layout)\n",
    "    sliders[key] = slider\n",
    "\n",
    "# Define a function to restore default values\n",
    "def restore_defaults(button):\n",
    "    for key, slider in sliders.items():\n",
    "        slider.value = default_values[key]\n",
    "\n",
    "# Create a button to restore defaults\n",
    "restore_defaults_button = widgets.Button(description=\"Restore Defaults\", button_style='primary')\n",
    "restore_defaults_button.on_click(restore_defaults)\n",
    "\n",
    "# Define the interactive plot with sliders\n",
    "simulation_plot = interactive(\n",
    "    plot_simulation,\n",
    "    **{key: slider for key, slider in sliders.items()}\n",
    ")\n",
    "\n",
    "supervised_plot = interactive(\n",
    "    plot_supervised,\n",
    "    **{key: slider for key, slider in sliders.items()}\n",
    ")\n",
    "\n",
    "cluster_with_normal_plot = interactive(\n",
    "    plot_cluster_with_normal,\n",
    "    **{key: slider for key, slider in sliders.items()}\n",
    ")"
   ]
  },
  {
   "cell_type": "code",
   "execution_count": 16,
   "id": "bccd89d9-60c5-426e-b729-7d5a6af1c908",
   "metadata": {},
   "outputs": [
    {
     "data": {
      "application/vnd.jupyter.widget-view+json": {
       "model_id": "589090ed3eff409aa90f2bc67164a3f6",
       "version_major": 2,
       "version_minor": 0
      },
      "text/plain": [
       "interactive(children=(IntSlider(value=10000, description='Total cells', layout=Layout(width='400px'), max=1000…"
      ]
     },
     "metadata": {},
     "output_type": "display_data"
    },
    {
     "data": {
      "application/vnd.jupyter.widget-view+json": {
       "model_id": "3fc562c4e6b24cc88d135f747201f7c6",
       "version_major": 2,
       "version_minor": 0
      },
      "text/plain": [
       "Button(button_style='primary', description='Restore Defaults', style=ButtonStyle())"
      ]
     },
     "metadata": {},
     "output_type": "display_data"
    }
   ],
   "source": [
    "# Display the interactive plot and the restore defaults button\n",
    "display(simulation_plot, restore_defaults_button)"
   ]
  },
  {
   "cell_type": "code",
   "execution_count": 5,
   "id": "8b253ac0-dce8-4a14-860b-e649f876e69b",
   "metadata": {},
   "outputs": [
    {
     "data": {
      "application/vnd.jupyter.widget-view+json": {
       "model_id": "e2a3280fb39749f38b0cb412af32f2fd",
       "version_major": 2,
       "version_minor": 0
      },
      "text/plain": [
       "interactive(children=(IntSlider(value=10000, description='Total cells', layout=Layout(width='400px'), max=1000…"
      ]
     },
     "metadata": {},
     "output_type": "display_data"
    },
    {
     "data": {
      "application/vnd.jupyter.widget-view+json": {
       "model_id": "e8472f076db8437c8544b4b11d381f00",
       "version_major": 2,
       "version_minor": 0
      },
      "text/plain": [
       "Button(button_style='primary', description='Restore Defaults', style=ButtonStyle())"
      ]
     },
     "metadata": {},
     "output_type": "display_data"
    }
   ],
   "source": [
    "# Display the interactive plot and the restore defaults button\n",
    "display(supervised_plot, restore_defaults_button)"
   ]
  },
  {
   "cell_type": "code",
   "execution_count": 6,
   "id": "d3b29959-d545-4010-9cea-330a7ccf099c",
   "metadata": {},
   "outputs": [
    {
     "data": {
      "application/vnd.jupyter.widget-view+json": {
       "model_id": "8555de813eed4193814db66f8b6d7d6d",
       "version_major": 2,
       "version_minor": 0
      },
      "text/plain": [
       "interactive(children=(IntSlider(value=10000, description='Total cells', layout=Layout(width='400px'), max=1000…"
      ]
     },
     "metadata": {},
     "output_type": "display_data"
    },
    {
     "data": {
      "application/vnd.jupyter.widget-view+json": {
       "model_id": "e8472f076db8437c8544b4b11d381f00",
       "version_major": 2,
       "version_minor": 0
      },
      "text/plain": [
       "Button(button_style='primary', description='Restore Defaults', style=ButtonStyle())"
      ]
     },
     "metadata": {},
     "output_type": "display_data"
    }
   ],
   "source": [
    "display(cluster_with_normal_plot, restore_defaults_button)"
   ]
  },
  {
   "cell_type": "code",
   "execution_count": null,
   "id": "6e5533d4-d021-48ad-ba85-36e95721d778",
   "metadata": {},
   "outputs": [],
   "source": []
  }
 ],
 "metadata": {
  "kernelspec": {
   "display_name": "Python 3 (ipykernel)",
   "language": "python",
   "name": "python3"
  },
  "language_info": {
   "codemirror_mode": {
    "name": "ipython",
    "version": 3
   },
   "file_extension": ".py",
   "mimetype": "text/x-python",
   "name": "python",
   "nbconvert_exporter": "python",
   "pygments_lexer": "ipython3",
   "version": "3.11.5"
  }
 },
 "nbformat": 4,
 "nbformat_minor": 5
}
